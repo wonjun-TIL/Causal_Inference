{
 "cells": [
  {
   "cell_type": "markdown",
   "metadata": {},
   "source": [
    "## 5 Matching and propensity score\n",
    "\n",
    "어떤 기준을 충족하는 조건화 전략이 존재한다면 해당 전략을 사용하여 **인과관계효과를 식별 할 수** 있다.\n",
    "\n",
    "여러 조건화 종류가 있지만 여기서는 2가지 종류의 조건화 전략에 대해 논의하려고 한다."
   ]
  }
 ],
 "metadata": {
  "language_info": {
   "name": "python"
  }
 },
 "nbformat": 4,
 "nbformat_minor": 2
}
